{
 "cells": [
  {
   "cell_type": "code",
   "execution_count": 37,
   "metadata": {},
   "outputs": [],
   "source": [
    "import pandas as pd\n",
    "import numpy as np\n",
    "import matplotlib.pyplot as plt\n",
    "import seaborn as sns\n",
    "from scipy.stats import norm , skew\n",
    "from  scipy import stats\n",
    "from scipy.special import boxcox\n",
    "import os \n",
    "import warnings\n",
    "warnings.filterwarnings('ignore')\n",
    "from sklearn.utils import resample\n",
    "from sklearn.model_selection import train_test_split\n",
    "from sklearn.linear_model import LogisticRegression\n",
    "from sklearn.tree import DecisionTreeClassifier\n",
    "from sklearn.svm import SVC\n",
    "from sklearn.metrics import fbeta_score, recall_score, precision_score, average_precision_score, precision_recall_curve\n",
    "from sklearn.ensemble import RandomForestClassifier\n",
    "from imblearn.over_sampling import SMOTE ,ADASYN,BorderlineSMOTE\n",
    "from imblearn.under_sampling import NearMiss\n",
    "import seaborn as sns\n",
    "from collections import Counter\n",
    "from sklearn.metrics import make_scorer\n",
    "from time import time"
   ]
  },
  {
   "cell_type": "code",
   "execution_count": 2,
   "metadata": {},
   "outputs": [],
   "source": [
    "def isna_ornot(df,target,new_col) :\n",
    "    \n",
    "    list_ = []\n",
    "    \n",
    "    for col in df[target].isna() :\n",
    "        \n",
    "        if col == True :\n",
    "            \n",
    "            list_.append(0)\n",
    "        else :\n",
    "            \n",
    "            list_.append(1)\n",
    "            \n",
    "    df[new_col] = list_\n",
    "        \n",
    "    return df\n",
    "\n",
    "\n",
    "def fill_float_na (df,target,lam) :\n",
    "    \n",
    "    a = boxcox(df[target].dropna(),lam)\n",
    "    M = a.sum() / (len(a) - len(a[a == 0]))\n",
    "    df[target] = df[target].fillna(M)\n",
    "    \n",
    "    return df[target]\n",
    "\n",
    "\n",
    "def replace_na_to_object (df,target) :\n",
    "    df[target] = df[target].replace(np.nan(),'未知')\n",
    "    \n",
    "    return df\n",
    "\n",
    "\n"
   ]
  },
  {
   "cell_type": "code",
   "execution_count": 3,
   "metadata": {},
   "outputs": [],
   "source": [
    "train = pd.read_csv('../../data/train.csv',encoding= 'big5')\n",
    "test = pd.read_csv('../../data/test.csv',encoding= 'big5')"
   ]
  },
  {
   "cell_type": "code",
   "execution_count": 4,
   "metadata": {},
   "outputs": [],
   "source": [
    "data_all = pd.concat([train,test],axis=0)\n",
    "data_all = data_all.reset_index()"
   ]
  },
  {
   "cell_type": "code",
   "execution_count": 5,
   "metadata": {},
   "outputs": [],
   "source": [
    "Ans = data_all['Y1']"
   ]
  },
  {
   "cell_type": "code",
   "execution_count": 6,
   "metadata": {},
   "outputs": [],
   "source": [
    "data_all = data_all.drop(['Y1'],axis=1)"
   ]
  },
  {
   "cell_type": "code",
   "execution_count": 7,
   "metadata": {},
   "outputs": [],
   "source": [
    "data_all_na_col = []\n",
    "na_num = []\n",
    "for col in data_all.columns.tolist() :\n",
    "    if data_all[col].isna().sum() == 0 :\n",
    "        pass\n",
    "    else :\n",
    "        data_all_na_col.append(col)\n",
    "        na_num.append(data_all[col].isna().sum())\n",
    "        #print(col,'na_num =',data_all[col].isna().sum())"
   ]
  },
  {
   "cell_type": "code",
   "execution_count": 8,
   "metadata": {},
   "outputs": [],
   "source": [
    "for col in data_all_na_col :\n",
    "    if data_all[col].isna().sum()  >= 2500 :\n",
    "        data_all = isna_ornot(data_all,col,col+'_isna')\n",
    "    else :\n",
    "        pass"
   ]
  },
  {
   "cell_type": "code",
   "execution_count": 9,
   "metadata": {},
   "outputs": [],
   "source": [
    "object_list = []\n",
    "int_list = []\n",
    "float_list = []\n",
    "for col in data_all.columns.tolist() :\n",
    "    if data_all[col].dtype == 'object' :\n",
    "        object_list.append(col)\n",
    "    if data_all[col].dtype == 'int64'  :\n",
    "        int_list.append(col)\n",
    "    if data_all[col].dtype == 'float64' :\n",
    "        float_list.append(col)"
   ]
  },
  {
   "cell_type": "code",
   "execution_count": 10,
   "metadata": {},
   "outputs": [],
   "source": [
    "for col in object_list :\n",
    "    if data_all[col].isna().sum() >= 2500 :\n",
    "        data_all[col].replace(np.nan,'Unknow',inplace=True)\n",
    "    else :\n",
    "        pass"
   ]
  },
  {
   "cell_type": "code",
   "execution_count": 11,
   "metadata": {},
   "outputs": [
    {
     "name": "stdout",
     "output_type": "stream",
     "text": [
      "GENDER na_num = 1695\n",
      "IF_ADD_INSD_IND na_num = 185\n",
      "INSD_1ST_AGE na_num = 185\n",
      "X_A_IND na_num = 52\n",
      "X_B_IND na_num = 52\n",
      "X_C_IND na_num = 52\n",
      "X_D_IND na_num = 52\n",
      "X_E_IND na_num = 52\n",
      "X_F_IND na_num = 52\n",
      "X_G_IND na_num = 52\n",
      "X_H_IND na_num = 52\n"
     ]
    }
   ],
   "source": [
    "for col in object_list :\n",
    "    if data_all[col].isna().sum() > 0 :\n",
    "        print(col,'na_num =',data_all[col].isna().sum())"
   ]
  },
  {
   "cell_type": "code",
   "execution_count": 12,
   "metadata": {},
   "outputs": [
    {
     "name": "stdout",
     "output_type": "stream",
     "text": [
      "ACCIDENT_HOSPITAL_REC_AMT na_num = 69005\n",
      "ANNUAL_INCOME_AMT na_num = 96620\n",
      "ANNUAL_PREMIUM_AMT na_num = 155189\n",
      "ANNUITY_AMT na_num = 69005\n",
      "APC_1ST_YEARDIF na_num = 107496\n",
      "BMI na_num = 40337\n",
      "DIEACCIDENT_AMT na_num = 69005\n",
      "DIEBENEFIT_AMT na_num = 69005\n",
      "DISEASES_HOSPITAL_REC_AMT na_num = 69005\n",
      "EDUCATION_CD na_num = 50857\n",
      "EXPIRATION_AMT na_num = 69005\n",
      "FIRST_CANCER_AMT na_num = 69005\n",
      "ILL_ACCELERATION_AMT na_num = 69005\n",
      "ILL_ADDITIONAL_AMT na_num = 69005\n",
      "INPATIENT_SURGERY_AMT na_num = 69005\n",
      "INSD_LAST_YEARDIF_CNT na_num = 185\n",
      "L1YR_C_CNT na_num = 220078\n",
      "LEVEL na_num = 107521\n",
      "LONG_TERM_CARE_AMT na_num = 69005\n",
      "MARRIAGE_CD na_num = 19421\n",
      "MONTHLY_CARE_AMT na_num = 69005\n",
      "OCCUPATION_CLASS_CD na_num = 8885\n",
      "OUTPATIENT_SURGERY_AMT na_num = 69005\n",
      "PAY_LIMIT_MED_MISC_AMT na_num = 69005\n",
      "POLICY_VALUE_AMT na_num = 69005\n",
      "RFM_M_LEVEL na_num = 107496\n",
      "TERMINATION_RATE na_num = 107496\n"
     ]
    }
   ],
   "source": [
    "for col in float_list :\n",
    "    if data_all[col].isna().sum() > 0 :\n",
    "        print(col,'na_num =',data_all[col].isna().sum())"
   ]
  },
  {
   "cell_type": "code",
   "execution_count": 13,
   "metadata": {},
   "outputs": [],
   "source": [
    "nd_fill0_list = []\n",
    "for col in float_list :\n",
    "    if (data_all[col] == 0 ).sum() > 1000 :   ### 0 數量是否太多\n",
    "        nd_fill0_list.append(col)\n",
    "    \n",
    "for col in nd_fill0_list :    \n",
    "    data =(data_all[col] == 0 ).replace([True,False],[1,0])\n",
    "    data_all[col+'_is0'] = data "
   ]
  },
  {
   "cell_type": "code",
   "execution_count": 14,
   "metadata": {},
   "outputs": [],
   "source": [
    "tranform_list = ['ILL_ADDITIONAL_AMT','INPATIENT_SURGERY_AMT','INSD_LAST_YEARDIF_CNT','L1YR_C_CNT','L1YR_GROSS_PRE_AMT',\n",
    "                'LIFE_INSD_CNT','LONG_TERM_CARE_AMT','MONTHLY_CARE_AMT','OCCUPATION_CLASS_CD','OUTPATIENT_SURGERY_AMT',\n",
    "                'POLICY_VALUE_AMT','TERMINATION_RATE','LEVEL','MARRIAGE_CD','PAY_LIMIT_MED_MISC_AMT','RFM_M_LEVEL','ACCIDENT_HOSPITAL_REC_AMT', 'ANNUAL_INCOME_AMT', 'ANNUAL_PREMIUM_AMT', 'ANNUITY_AMT', 'APC_1ST_YEARDIF', 'BANK_NUMBER_CNT', \n",
    "                'BMI', 'DIEACCIDENT_AMT', 'DIEBENEFIT_AMT', 'DISEASES_HOSPITAL_REC_AMT', 'EDUCATION_CD', 'EXPIRATION_AMT', 'FIRST_CANCER_AMT', 'ILL_ACCELERATION_AMT']"
   ]
  },
  {
   "cell_type": "code",
   "execution_count": 15,
   "metadata": {},
   "outputs": [],
   "source": [
    "for col in tranform_list :\n",
    "    data_all[col] = fill_float_na(data_all,col,0.15)"
   ]
  },
  {
   "cell_type": "code",
   "execution_count": 16,
   "metadata": {},
   "outputs": [],
   "source": [
    "nd_ont_list = []\n",
    "nd_tar_list = []\n",
    "for col in object_list :\n",
    "    nd_ont_list.append(col)\n",
    "    #if len(data_all[col].unique()) ==3 :\n",
    "    #    nd_ont_list.append(col)\n",
    "    \n",
    "    #else :\n",
    "    #    nd_tar_list.append(col)"
   ]
  },
  {
   "cell_type": "code",
   "execution_count": 17,
   "metadata": {},
   "outputs": [],
   "source": [
    "for col in nd_ont_list :\n",
    "    data_all =pd.concat([data_all] + [pd.get_dummies(data_all[col],prefix=col)] ,axis=1)"
   ]
  },
  {
   "cell_type": "code",
   "execution_count": 18,
   "metadata": {},
   "outputs": [],
   "source": [
    "data_all.drop(nd_ont_list,axis=1,inplace=True)"
   ]
  },
  {
   "cell_type": "code",
   "execution_count": 19,
   "metadata": {},
   "outputs": [
    {
     "data": {
      "text/plain": [
       "(250000, 370)"
      ]
     },
     "execution_count": 19,
     "metadata": {},
     "output_type": "execute_result"
    }
   ],
   "source": [
    "data_all.shape"
   ]
  },
  {
   "cell_type": "code",
   "execution_count": 20,
   "metadata": {},
   "outputs": [
    {
     "data": {
      "text/plain": [
       "(250000, 370)"
      ]
     },
     "execution_count": 20,
     "metadata": {},
     "output_type": "execute_result"
    }
   ],
   "source": [
    "data_all.dropna().shape"
   ]
  },
  {
   "cell_type": "code",
   "execution_count": 21,
   "metadata": {},
   "outputs": [],
   "source": [
    "ALL = pd.concat([data_all,Ans],axis=1)\n",
    "test_set = ALL[ALL['Y1'].isna()]\n",
    "train_set = ALL[ALL['Y1'].isna()==False]"
   ]
  },
  {
   "cell_type": "code",
   "execution_count": 22,
   "metadata": {},
   "outputs": [],
   "source": [
    "train_set['Y1'].replace(['Y','N'],[1,0],inplace=True)"
   ]
  },
  {
   "cell_type": "code",
   "execution_count": 23,
   "metadata": {},
   "outputs": [],
   "source": [
    "train_set.dropna(inplace= True)"
   ]
  },
  {
   "cell_type": "code",
   "execution_count": 145,
   "metadata": {},
   "outputs": [],
   "source": [
    "#Function to split the original data and rturn values basd on the flag\n",
    "def split_data(df,target,clf):\n",
    "       \n",
    "    y = df['Y1']\n",
    "    X = df.drop(['index', 'CUS_ID', 'Y1'], axis=1)\n",
    "    X_train, X_test, y_train, y_test = train_test_split(X, \n",
    "                                                    y, \n",
    "                                                    test_size = 0.3, \n",
    "                                                    random_state = 0)\n",
    "        \n",
    "    if clf == 1:\n",
    "        return (X,y)\n",
    "    elif clf  == 2:\n",
    "        return (X_train, X_test, y_train, y_test)\n",
    "    else:\n",
    "        return (X, y, X_train, X_test, y_train, y_test)"
   ]
  },
  {
   "cell_type": "code",
   "execution_count": 24,
   "metadata": {},
   "outputs": [],
   "source": [
    "results = {}"
   ]
  },
  {
   "cell_type": "code",
   "execution_count": 302,
   "metadata": {},
   "outputs": [
    {
     "data": {
      "text/plain": [
       "(100000, 371)"
      ]
     },
     "execution_count": 302,
     "metadata": {},
     "output_type": "execute_result"
    }
   ],
   "source": [
    "train_set.shape"
   ]
  },
  {
   "cell_type": "code",
   "execution_count": 61,
   "metadata": {},
   "outputs": [
    {
     "name": "stdout",
     "output_type": "stream",
     "text": [
      "No. of 0's and 1's in the feature Class before oversampling the data\n",
      "0    78419\n",
      "1     1581\n",
      "Name: Y1, dtype: int64\n",
      "No. of 0's and 1's in the feature Class after oversampling the data\n",
      "0    78419\n",
      "1    49000\n",
      "Name: Y1, dtype: int64\n",
      "Training set has 127419 samples.\n",
      "Train Time: 61.49001932144165\n",
      "Prediction Time: 0.21240735054016113\n",
      "fbeta score_train: 0.2619715487878181\n",
      "recall_score_train: 0.661606578115117\n",
      "precision_score_train: 0.07668621700879766\n",
      "========================================================\n",
      "Train Time: 61.49001932144165\n",
      "Prediction Time: 0.21240735054016113\n",
      "fbeta score: 0.26362384418650403\n",
      "recall_score: 0.639618138424821\n",
      "precision_score: 0.07866157910184914\n"
     ]
    }
   ],
   "source": [
    "resample_data = X_train.drop(['index', 'CUS_ID'], axis=1)\n",
    "\n",
    "results['rm']={}\n",
    "\n",
    "print(\"No. of 0's and 1's in the feature Class before oversampling the data\")\n",
    "print(resample_data['Y1'].value_counts())\n",
    "\n",
    "\n",
    "data_majority = resample_data[resample_data['Y1'] == 0]\n",
    "data_minority = resample_data[resample_data['Y1'] == 1]\n",
    "\n",
    "data_minority_oversampled  = resample(data_minority, \n",
    "                                 replace=True,     \n",
    "                                 n_samples=49000, \n",
    "                                 random_state=1102) \n",
    " \n",
    "# Combine majority class with upsampled minority class\n",
    "data_oversampled = pd.concat([data_majority, data_minority_oversampled])\n",
    "\n",
    "print(\"No. of 0's and 1's in the feature Class after oversampling the data\")\n",
    " \n",
    "print(data_oversampled['Y1'].value_counts())\n",
    "\n",
    "y = data_oversampled['Y1']\n",
    "X = data_oversampled.drop('Y1', axis=1)\n",
    "\n",
    "\n",
    "print(\"Training set has {} samples.\".format(X.shape[0]))\n",
    "\n",
    "\n",
    "start = time()\n",
    "#Training the Classifier\n",
    "clf_over_sampled_log = LogisticRegression().fit(X, y)\n",
    "end = time()\n",
    "results['rm']['train_time'] = end - start\n",
    "\n",
    "# Predict on training set \n",
    "start = time()\n",
    "\n",
    "y_train_pre = clf_over_sampled_log.predict(X_train.drop(['CUS_ID','index','Y1'],axis=1))\n",
    "y_test_pre = clf_over_sampled_log.predict(X_test.drop(['CUS_ID','index','Y1'],axis=1))\n",
    "\n",
    "end = time()\n",
    "results['rm']['pred_time'] = end - start\n",
    "\n",
    "results['rm']['fbeta_train'] = fbeta_score(y_train,y_train_pre,beta=2)\n",
    "results['rm']['recall_train'] = recall_score(y_train,y_train_pre)\n",
    "results['rm']['precision_train'] = precision_score(y_train,y_train_pre)\n",
    "\n",
    "results['rm']['fbeta_test'] = fbeta_score(y_test,y_test_pre,beta=2)\n",
    "results['rm']['recall_test'] = recall_score(y_test,y_test_pre)\n",
    "results['rm']['precision_test'] = precision_score(y_test,y_test_pre)\n",
    "\n",
    "print (\"Train Time:\", results['rm']['train_time'])\n",
    "print (\"Prediction Time:\", results['rm']['pred_time'])\n",
    "print (\"fbeta score_train:\", results['rm']['fbeta_train'])\n",
    "print('recall_score_train:', results['rm']['recall_train'])\n",
    "print('precision_score_train:', results['rm']['precision_train'])\n",
    "\n",
    "\n",
    "print('========================================================')\n",
    "print (\"Train Time:\", results['rm']['train_time'])\n",
    "print (\"Prediction Time:\", results['rm']['pred_time'])\n",
    "print (\"fbeta score:\", results['rm']['fbeta_test'])\n",
    "print('recall_score:', results['rm']['recall_test'])\n",
    "print('precision_score:', results['rm']['precision_test'])"
   ]
  },
  {
   "cell_type": "code",
   "execution_count": 310,
   "metadata": {},
   "outputs": [
    {
     "name": "stdout",
     "output_type": "stream",
     "text": [
      "No. of 0's and 1's in the feature Class before oversampling the data\n",
      "0    98000\n",
      "1     2000\n",
      "Name: Y1, dtype: int64\n",
      "No. of 0's and 1's in the feature Class after oversampling the data\n",
      "0    98000\n",
      "1    49000\n",
      "Name: Y1, dtype: int64\n"
     ]
    }
   ],
   "source": [
    "resample_data = train_set.drop(['index', 'CUS_ID'], axis=1)\n",
    "\n",
    "results['oversampled']={}\n",
    "\n",
    "print(\"No. of 0's and 1's in the feature Class before oversampling the data\")\n",
    "print(resample_data['Y1'].value_counts())\n",
    "\n",
    "\n",
    "data_majority = resample_data[resample_data['Y1'] == 0]\n",
    "data_minority = resample_data[resample_data['Y1'] == 1]\n",
    "\n",
    "data_minority_oversampled  = resample(data_minority, \n",
    "                                 replace=True,     \n",
    "                                 n_samples=49000, \n",
    "                                 random_state=1102) \n",
    " \n",
    "# Combine majority class with upsampled minority class\n",
    "data_oversampled = pd.concat([data_majority, data_minority_oversampled])\n",
    "\n",
    "print(\"No. of 0's and 1's in the feature Class after oversampling the data\")\n",
    " \n",
    "print(data_oversampled['Y1'].value_counts())\n",
    "\n"
   ]
  },
  {
   "cell_type": "code",
   "execution_count": 311,
   "metadata": {},
   "outputs": [
    {
     "name": "stdout",
     "output_type": "stream",
     "text": [
      "Training set has 102900 samples.\n",
      "Testing set has 44100 samples.\n"
     ]
    }
   ],
   "source": [
    "y = data_oversampled['Y1']\n",
    "X = data_oversampled.drop('Y1', axis=1)\n",
    "\n",
    "# Split the data into training and testing sets\n",
    "X_train_o, X_test_o, y_train_o, y_test_o = train_test_split(X, \n",
    "                                                    y, \n",
    "                                                    test_size = 0.3, \n",
    "                                                    random_state = 0)\n",
    "\n",
    "print(\"Training set has {} samples.\".format(X_train_o.shape[0]))\n",
    "print(\"Testing set has {} samples.\".format(X_test_o.shape[0]))"
   ]
  },
  {
   "cell_type": "code",
   "execution_count": 150,
   "metadata": {},
   "outputs": [
    {
     "name": "stdout",
     "output_type": "stream",
     "text": [
      "Train Time: 54.639206409454346\n",
      "Prediction Time: 0.08873295783996582\n",
      "fbeta score: 0.7809875827088716\n",
      "recall_score: 0.783264560643983\n",
      "precision_score: 0.772010534386772\n"
     ]
    }
   ],
   "source": [
    "start = time()\n",
    "#Training the Classifier\n",
    "clf_over_sampled_log = LogisticRegression().fit(X_train_o, y_train_o)\n",
    "end = time()\n",
    "results['oversampled']['train_time'] = end - start\n",
    "\n",
    "# Predict on training set\n",
    "start = time()\n",
    "y_pred_score_o = clf_over_sampled_log.predict(X_test_o)\n",
    "end = time()\n",
    "results['oversampled']['pred_time'] = end - start\n",
    "\n",
    "results['oversampled']['fbeta'] = fbeta_score(y_test_o,y_pred_score_o,beta=2)\n",
    "results['oversampled']['recall']= recall_score(y_test_o,y_pred_score_o)\n",
    "results['oversampled']['precision'] = precision_score(y_test_o,y_pred_score_o)\n",
    "\n",
    "\n",
    "print (\"Train Time:\", results['oversampled']['train_time'])\n",
    "print (\"Prediction Time:\", results['oversampled']['pred_time'])\n",
    "print (\"fbeta score:\", results['oversampled']['fbeta'])\n",
    "print('recall_score:', results['oversampled']['recall'])\n",
    "print('precision_score:', results['oversampled']['precision'])"
   ]
  },
  {
   "cell_type": "code",
   "execution_count": 164,
   "metadata": {},
   "outputs": [
    {
     "data": {
      "text/plain": [
       "37411"
      ]
     },
     "execution_count": 164,
     "metadata": {},
     "output_type": "execute_result"
    }
   ],
   "source": [
    "ans = clf_over_sampled_log.predict(test_set.drop(['CUS_ID','index','Y1'],axis=1))\n",
    "ans.sum()"
   ]
  },
  {
   "cell_type": "code",
   "execution_count": 32,
   "metadata": {},
   "outputs": [],
   "source": [
    "import lightgbm as light\n",
    "import catboost as cat\n",
    "import xgboost as xgb"
   ]
  },
  {
   "cell_type": "code",
   "execution_count": 33,
   "metadata": {},
   "outputs": [],
   "source": [
    "lig = light.LGBMClassifier(learning_rate=0.1,max_depth=7,subsample=0.7,colsample_bytree=0.3,\n",
    "                            reg_alpha=0.6,reg_lambda=0.9,n_estimators=300,n_jobs=5,verbosity=3)"
   ]
  },
  {
   "cell_type": "code",
   "execution_count": 313,
   "metadata": {},
   "outputs": [
    {
     "name": "stdout",
     "output_type": "stream",
     "text": [
      "Train Time: 3.010924816131592\n",
      "Prediction Time: 0.38497114181518555\n",
      "fbeta score: 0.8935010764262648\n",
      "recall_score: 0.8903861625100563\n",
      "precision_score: 0.9061817685589519\n"
     ]
    }
   ],
   "source": [
    "start = time()\n",
    "#Training the Classifier\n",
    "clf_over_sampled_lig = lig.fit(X_train_o, y_train_o)\n",
    "end = time()\n",
    "results['oversampled']['train_time'] = end - start\n",
    "\n",
    "# Predict on training set\n",
    "start = time()\n",
    "y_pred_score_o = clf_over_sampled_lig.predict(X_test_o)\n",
    "end = time()\n",
    "results['oversampled']['pred_time'] = end - start\n",
    "\n",
    "results['oversampled']['fbeta'] = fbeta_score(y_test_o,y_pred_score_o,beta=2)\n",
    "results['oversampled']['recall']= recall_score(y_test_o,y_pred_score_o)\n",
    "results['oversampled']['precision'] = precision_score(y_test_o,y_pred_score_o)\n",
    "\n",
    "\n",
    "print (\"Train Time:\", results['oversampled']['train_time'])\n",
    "print (\"Prediction Time:\", results['oversampled']['pred_time'])\n",
    "print (\"fbeta score:\", results['oversampled']['fbeta'])\n",
    "print('recall_score:', results['oversampled']['recall'])\n",
    "print('precision_score:', results['oversampled']['precision'])"
   ]
  },
  {
   "cell_type": "code",
   "execution_count": 314,
   "metadata": {},
   "outputs": [
    {
     "data": {
      "text/plain": [
       "7330"
      ]
     },
     "execution_count": 314,
     "metadata": {},
     "output_type": "execute_result"
    }
   ],
   "source": [
    "ans = clf_over_sampled_lig.predict(test_set.drop(['CUS_ID','index','Y1'],axis=1))\n",
    "ans.sum()"
   ]
  },
  {
   "cell_type": "code",
   "execution_count": 268,
   "metadata": {},
   "outputs": [
    {
     "data": {
      "text/plain": [
       "4200.0"
      ]
     },
     "execution_count": 268,
     "metadata": {},
     "output_type": "execute_result"
    }
   ],
   "source": [
    "14000*0.3"
   ]
  },
  {
   "cell_type": "markdown",
   "metadata": {},
   "source": [
    "# smote"
   ]
  },
  {
   "cell_type": "code",
   "execution_count": 217,
   "metadata": {},
   "outputs": [
    {
     "name": "stdout",
     "output_type": "stream",
     "text": [
      "No. of 0's and 1's in the feature Class before oversampling the data\n",
      "0    98000\n",
      "1     2000\n",
      "Name: Y1, dtype: int64\n",
      "No. of 0's and 1's in the feature Class After oversampling the data\n",
      "Counter({0: 98000, 1: 98000})\n",
      "Train Time: 51.93643355369568\n",
      "Prediction Time: 0.028894424438476562\n",
      "fbeta score: 0.7966820338526769\n",
      "recall_score: 0.801157321241244\n",
      "precision_score: 0.7792699384483723\n"
     ]
    }
   ],
   "source": [
    "smote_data = train_set.drop(['index', 'CUS_ID'], axis=1)\n",
    "\n",
    "print(\"No. of 0's and 1's in the feature Class before oversampling the data\")\n",
    "print(smote_data['Y1'].value_counts())\n",
    "\n",
    "\n",
    "X_sm = smote_data.drop('Y1',axis=1)\n",
    "y_sm = smote_data['Y1']\n",
    "start = time()\n",
    "# Oversampling the data using SMOTE\n",
    "X_resampled_sm, y_resampled_sm = SMOTE().fit_sample(X_sm,y_sm)\n",
    "end = time()\n",
    "print(\"No. of 0's and 1's in the feature Class After oversampling the data\")\n",
    "print(Counter(y_resampled_sm))\n",
    "\n",
    "\n",
    "# Initializng the dictionary to store performance metrics\n",
    "results['SMOTE'] = {}\n",
    "results['SMOTE']['resample_time'] = end - start\n",
    "\n",
    "# Splitting the resampled data \n",
    "X_train_sm, X_test_sm, y_train_sm, y_test_sm = train_test_split(X_resampled_sm, \n",
    "                                                    y_resampled_sm, \n",
    "                                                    test_size = 0.3, \n",
    "                                                    random_state = 0)\n",
    "start = time()\n",
    "# Training the Classifier\n",
    "clf_smote_log = LogisticRegression().fit(X_train_sm, y_train_sm)\n",
    "end = time()\n",
    "results['SMOTE']['train_time'] = end - start\n",
    "\n",
    "\n",
    "# Predict on training set\n",
    "start = time()\n",
    "y_pred_score_sm = clf_smote_log.predict(X_test_sm)\n",
    "end = time()\n",
    "results['SMOTE']['pred_time'] = end - start\n",
    "\n",
    "\n",
    "results['SMOTE']['fbeta'] = fbeta_score(y_test_sm,y_pred_score_sm,beta=2)\n",
    "results['SMOTE']['recall'] = recall_score(y_test_sm,y_pred_score_sm)\n",
    "results['SMOTE']['precision'] = precision_score(y_test_sm,y_pred_score_sm)\n",
    "\n",
    "print (\"Train Time:\", results['SMOTE']['train_time'])\n",
    "print (\"Prediction Time:\", results['SMOTE']['pred_time'])\n",
    "print (\"fbeta score:\", results['SMOTE']['fbeta'])\n",
    "print('recall_score:', results['SMOTE']['recall'])\n",
    "print('precision_score:', results['SMOTE']['precision'])"
   ]
  },
  {
   "cell_type": "code",
   "execution_count": 109,
   "metadata": {},
   "outputs": [
    {
     "name": "stdout",
     "output_type": "stream",
     "text": [
      "No. of 0's and 1's in the feature Class before oversampling the data\n",
      "0    97192\n",
      "1     1916\n",
      "Name: Y1, dtype: int64\n",
      "No. of 0's and 1's in the feature Class After oversampling the data\n",
      "Counter({0: 97192, 1: 97192})\n",
      "Train Time: 22.363317012786865\n",
      "Prediction Time: 0.8078389167785645\n",
      "fbeta score: 0.984451354953354\n",
      "recall_score: 0.9807312589364744\n",
      "precision_score: 0.9996183073666678\n"
     ]
    }
   ],
   "source": [
    "smote_data = train_set.drop(['index', 'CUS_ID'], axis=1)\n",
    "\n",
    "print(\"No. of 0's and 1's in the feature Class before oversampling the data\")\n",
    "print(smote_data['Y1'].value_counts())\n",
    "\n",
    "\n",
    "X_sm = smote_data.drop('Y1',axis=1)\n",
    "y_sm = smote_data['Y1']\n",
    "start = time()\n",
    "# Oversampling the data using SMOTE\n",
    "X_resampled_sm, y_resampled_sm = SMOTE().fit_sample(X_sm,y_sm)\n",
    "end = time()\n",
    "print(\"No. of 0's and 1's in the feature Class After oversampling the data\")\n",
    "print(Counter(y_resampled_sm))\n",
    "\n",
    "\n",
    "# Initializng the dictionary to store performance metrics\n",
    "results['SMOTE'] = {}\n",
    "results['SMOTE']['resample_time'] = end - start\n",
    "\n",
    "# Splitting the resampled data \n",
    "X_train_sm, X_test_sm, y_train_sm, y_test_sm = train_test_split(X_resampled_sm, \n",
    "                                                    y_resampled_sm, \n",
    "                                                    test_size = 0.3, \n",
    "                                                    random_state = 0)\n",
    "start = time()\n",
    "# Training the Classifier\n",
    "clf_smote_lig = lig.fit(X_train_sm, y_train_sm)\n",
    "end = time()\n",
    "results['SMOTE']['train_time'] = end - start\n",
    "\n",
    "\n",
    "# Predict on training set\n",
    "start = time()\n",
    "y_pred_score_sm = clf_smote_lig.predict(X_test_sm)\n",
    "end = time()\n",
    "results['SMOTE']['pred_time'] = end - start\n",
    "\n",
    "\n",
    "results['SMOTE']['fbeta'] = fbeta_score(y_test_sm,y_pred_score_sm,beta=2)\n",
    "results['SMOTE']['recall'] = recall_score(y_test_sm,y_pred_score_sm)\n",
    "results['SMOTE']['precision'] = precision_score(y_test_sm,y_pred_score_sm)\n",
    "\n",
    "print (\"Train Time:\", results['SMOTE']['train_time'])\n",
    "print (\"Prediction Time:\", results['SMOTE']['pred_time'])\n",
    "print (\"fbeta score:\", results['SMOTE']['fbeta'])\n",
    "print('recall_score:', results['SMOTE']['recall'])\n",
    "print('precision_score:', results['SMOTE']['precision'])"
   ]
  },
  {
   "cell_type": "code",
   "execution_count": 117,
   "metadata": {
    "scrolled": true
   },
   "outputs": [
    {
     "ename": "ValueError",
     "evalue": "Input contains NaN, infinity or a value too large for dtype('float64').",
     "output_type": "error",
     "traceback": [
      "\u001b[1;31m---------------------------------------------------------------------------\u001b[0m",
      "\u001b[1;31mValueError\u001b[0m                                Traceback (most recent call last)",
      "\u001b[1;32m<ipython-input-117-73f780e985a5>\u001b[0m in \u001b[0;36m<module>\u001b[1;34m\u001b[0m\n\u001b[1;32m----> 1\u001b[1;33m \u001b[0mans\u001b[0m \u001b[1;33m=\u001b[0m \u001b[0mclf_smote_log\u001b[0m\u001b[1;33m.\u001b[0m\u001b[0mpredict\u001b[0m\u001b[1;33m(\u001b[0m\u001b[0mtest_set\u001b[0m\u001b[1;33m.\u001b[0m\u001b[0mdrop\u001b[0m\u001b[1;33m(\u001b[0m\u001b[1;33m[\u001b[0m\u001b[1;34m'CUS_ID'\u001b[0m\u001b[1;33m,\u001b[0m\u001b[1;34m'index'\u001b[0m\u001b[1;33m]\u001b[0m\u001b[1;33m,\u001b[0m\u001b[0maxis\u001b[0m\u001b[1;33m=\u001b[0m\u001b[1;36m1\u001b[0m\u001b[1;33m)\u001b[0m\u001b[1;33m)\u001b[0m\u001b[1;33m\u001b[0m\u001b[1;33m\u001b[0m\u001b[0m\n\u001b[0m",
      "\u001b[1;32m~\\Anaconda3\\lib\\site-packages\\sklearn\\linear_model\\base.py\u001b[0m in \u001b[0;36mpredict\u001b[1;34m(self, X)\u001b[0m\n\u001b[0;32m    287\u001b[0m             \u001b[0mPredicted\u001b[0m \u001b[1;32mclass\u001b[0m \u001b[0mlabel\u001b[0m \u001b[0mper\u001b[0m \u001b[0msample\u001b[0m\u001b[1;33m.\u001b[0m\u001b[1;33m\u001b[0m\u001b[1;33m\u001b[0m\u001b[0m\n\u001b[0;32m    288\u001b[0m         \"\"\"\n\u001b[1;32m--> 289\u001b[1;33m         \u001b[0mscores\u001b[0m \u001b[1;33m=\u001b[0m \u001b[0mself\u001b[0m\u001b[1;33m.\u001b[0m\u001b[0mdecision_function\u001b[0m\u001b[1;33m(\u001b[0m\u001b[0mX\u001b[0m\u001b[1;33m)\u001b[0m\u001b[1;33m\u001b[0m\u001b[1;33m\u001b[0m\u001b[0m\n\u001b[0m\u001b[0;32m    290\u001b[0m         \u001b[1;32mif\u001b[0m \u001b[0mlen\u001b[0m\u001b[1;33m(\u001b[0m\u001b[0mscores\u001b[0m\u001b[1;33m.\u001b[0m\u001b[0mshape\u001b[0m\u001b[1;33m)\u001b[0m \u001b[1;33m==\u001b[0m \u001b[1;36m1\u001b[0m\u001b[1;33m:\u001b[0m\u001b[1;33m\u001b[0m\u001b[1;33m\u001b[0m\u001b[0m\n\u001b[0;32m    291\u001b[0m             \u001b[0mindices\u001b[0m \u001b[1;33m=\u001b[0m \u001b[1;33m(\u001b[0m\u001b[0mscores\u001b[0m \u001b[1;33m>\u001b[0m \u001b[1;36m0\u001b[0m\u001b[1;33m)\u001b[0m\u001b[1;33m.\u001b[0m\u001b[0mastype\u001b[0m\u001b[1;33m(\u001b[0m\u001b[0mnp\u001b[0m\u001b[1;33m.\u001b[0m\u001b[0mint\u001b[0m\u001b[1;33m)\u001b[0m\u001b[1;33m\u001b[0m\u001b[1;33m\u001b[0m\u001b[0m\n",
      "\u001b[1;32m~\\Anaconda3\\lib\\site-packages\\sklearn\\linear_model\\base.py\u001b[0m in \u001b[0;36mdecision_function\u001b[1;34m(self, X)\u001b[0m\n\u001b[0;32m    263\u001b[0m                                  \"yet\" % {'name': type(self).__name__})\n\u001b[0;32m    264\u001b[0m \u001b[1;33m\u001b[0m\u001b[0m\n\u001b[1;32m--> 265\u001b[1;33m         \u001b[0mX\u001b[0m \u001b[1;33m=\u001b[0m \u001b[0mcheck_array\u001b[0m\u001b[1;33m(\u001b[0m\u001b[0mX\u001b[0m\u001b[1;33m,\u001b[0m \u001b[0maccept_sparse\u001b[0m\u001b[1;33m=\u001b[0m\u001b[1;34m'csr'\u001b[0m\u001b[1;33m)\u001b[0m\u001b[1;33m\u001b[0m\u001b[1;33m\u001b[0m\u001b[0m\n\u001b[0m\u001b[0;32m    266\u001b[0m \u001b[1;33m\u001b[0m\u001b[0m\n\u001b[0;32m    267\u001b[0m         \u001b[0mn_features\u001b[0m \u001b[1;33m=\u001b[0m \u001b[0mself\u001b[0m\u001b[1;33m.\u001b[0m\u001b[0mcoef_\u001b[0m\u001b[1;33m.\u001b[0m\u001b[0mshape\u001b[0m\u001b[1;33m[\u001b[0m\u001b[1;36m1\u001b[0m\u001b[1;33m]\u001b[0m\u001b[1;33m\u001b[0m\u001b[1;33m\u001b[0m\u001b[0m\n",
      "\u001b[1;32m~\\Anaconda3\\lib\\site-packages\\sklearn\\utils\\validation.py\u001b[0m in \u001b[0;36mcheck_array\u001b[1;34m(array, accept_sparse, accept_large_sparse, dtype, order, copy, force_all_finite, ensure_2d, allow_nd, ensure_min_samples, ensure_min_features, warn_on_dtype, estimator)\u001b[0m\n\u001b[0;32m    540\u001b[0m         \u001b[1;32mif\u001b[0m \u001b[0mforce_all_finite\u001b[0m\u001b[1;33m:\u001b[0m\u001b[1;33m\u001b[0m\u001b[1;33m\u001b[0m\u001b[0m\n\u001b[0;32m    541\u001b[0m             _assert_all_finite(array,\n\u001b[1;32m--> 542\u001b[1;33m                                allow_nan=force_all_finite == 'allow-nan')\n\u001b[0m\u001b[0;32m    543\u001b[0m \u001b[1;33m\u001b[0m\u001b[0m\n\u001b[0;32m    544\u001b[0m     \u001b[1;32mif\u001b[0m \u001b[0mensure_min_samples\u001b[0m \u001b[1;33m>\u001b[0m \u001b[1;36m0\u001b[0m\u001b[1;33m:\u001b[0m\u001b[1;33m\u001b[0m\u001b[1;33m\u001b[0m\u001b[0m\n",
      "\u001b[1;32m~\\Anaconda3\\lib\\site-packages\\sklearn\\utils\\validation.py\u001b[0m in \u001b[0;36m_assert_all_finite\u001b[1;34m(X, allow_nan)\u001b[0m\n\u001b[0;32m     54\u001b[0m                 not allow_nan and not np.isfinite(X).all()):\n\u001b[0;32m     55\u001b[0m             \u001b[0mtype_err\u001b[0m \u001b[1;33m=\u001b[0m \u001b[1;34m'infinity'\u001b[0m \u001b[1;32mif\u001b[0m \u001b[0mallow_nan\u001b[0m \u001b[1;32melse\u001b[0m \u001b[1;34m'NaN, infinity'\u001b[0m\u001b[1;33m\u001b[0m\u001b[1;33m\u001b[0m\u001b[0m\n\u001b[1;32m---> 56\u001b[1;33m             \u001b[1;32mraise\u001b[0m \u001b[0mValueError\u001b[0m\u001b[1;33m(\u001b[0m\u001b[0mmsg_err\u001b[0m\u001b[1;33m.\u001b[0m\u001b[0mformat\u001b[0m\u001b[1;33m(\u001b[0m\u001b[0mtype_err\u001b[0m\u001b[1;33m,\u001b[0m \u001b[0mX\u001b[0m\u001b[1;33m.\u001b[0m\u001b[0mdtype\u001b[0m\u001b[1;33m)\u001b[0m\u001b[1;33m)\u001b[0m\u001b[1;33m\u001b[0m\u001b[1;33m\u001b[0m\u001b[0m\n\u001b[0m\u001b[0;32m     57\u001b[0m     \u001b[1;31m# for object dtype data, we only check for NaNs (GH-13254)\u001b[0m\u001b[1;33m\u001b[0m\u001b[1;33m\u001b[0m\u001b[1;33m\u001b[0m\u001b[0m\n\u001b[0;32m     58\u001b[0m     \u001b[1;32melif\u001b[0m \u001b[0mX\u001b[0m\u001b[1;33m.\u001b[0m\u001b[0mdtype\u001b[0m \u001b[1;33m==\u001b[0m \u001b[0mnp\u001b[0m\u001b[1;33m.\u001b[0m\u001b[0mdtype\u001b[0m\u001b[1;33m(\u001b[0m\u001b[1;34m'object'\u001b[0m\u001b[1;33m)\u001b[0m \u001b[1;32mand\u001b[0m \u001b[1;32mnot\u001b[0m \u001b[0mallow_nan\u001b[0m\u001b[1;33m:\u001b[0m\u001b[1;33m\u001b[0m\u001b[1;33m\u001b[0m\u001b[0m\n",
      "\u001b[1;31mValueError\u001b[0m: Input contains NaN, infinity or a value too large for dtype('float64')."
     ]
    }
   ],
   "source": [
    "ans = clf_smote_log.predict(test_set.drop(['CUS_ID','index','Y1'],axis=1))"
   ]
  },
  {
   "cell_type": "code",
   "execution_count": 112,
   "metadata": {},
   "outputs": [],
   "source": [
    "test_set.drop('Y1',axis=1,inplace=True)"
   ]
  },
  {
   "cell_type": "code",
   "execution_count": 116,
   "metadata": {},
   "outputs": [
    {
     "data": {
      "text/plain": [
       "118"
      ]
     },
     "execution_count": 116,
     "metadata": {},
     "output_type": "execute_result"
    }
   ],
   "source": [
    "ans.sum()"
   ]
  },
  {
   "cell_type": "code",
   "execution_count": 120,
   "metadata": {},
   "outputs": [
    {
     "data": {
      "text/plain": [
       "(148960, 370)"
      ]
     },
     "execution_count": 120,
     "metadata": {},
     "output_type": "execute_result"
    }
   ],
   "source": [
    "test_set.dropna().shape\n"
   ]
  },
  {
   "cell_type": "code",
   "execution_count": 160,
   "metadata": {},
   "outputs": [
    {
     "data": {
      "text/plain": [
       "LogisticRegression(C=1.0, class_weight=None, dual=False, fit_intercept=True,\n",
       "                   intercept_scaling=1, l1_ratio=None, max_iter=100,\n",
       "                   multi_class='warn', n_jobs=None, penalty='l2',\n",
       "                   random_state=None, solver='warn', tol=0.0001, verbose=0,\n",
       "                   warm_start=False)"
      ]
     },
     "execution_count": 160,
     "metadata": {},
     "output_type": "execute_result"
    }
   ],
   "source": []
  },
  {
   "cell_type": "code",
   "execution_count": 158,
   "metadata": {},
   "outputs": [
    {
     "ename": "TypeError",
     "evalue": "tolist() takes 1 positional argument but 2 were given",
     "output_type": "error",
     "traceback": [
      "\u001b[1;31m---------------------------------------------------------------------------\u001b[0m",
      "\u001b[1;31mTypeError\u001b[0m                                 Traceback (most recent call last)",
      "\u001b[1;32m<ipython-input-158-6e8dc98790e4>\u001b[0m in \u001b[0;36m<module>\u001b[1;34m\u001b[0m\n\u001b[0;32m      1\u001b[0m \u001b[0mimp\u001b[0m \u001b[1;33m=\u001b[0m \u001b[0mclf_over_sampled_log\u001b[0m\u001b[1;33m\u001b[0m\u001b[1;33m\u001b[0m\u001b[0m\n\u001b[1;32m----> 2\u001b[1;33m \u001b[0mimp_col\u001b[0m \u001b[1;33m=\u001b[0m \u001b[0mX\u001b[0m\u001b[1;33m.\u001b[0m\u001b[0mcolumns\u001b[0m\u001b[1;33m.\u001b[0m\u001b[0mtolist\u001b[0m\u001b[1;33m(\u001b[0m\u001b[0mX_test_o\u001b[0m\u001b[1;33m)\u001b[0m\u001b[1;33m\u001b[0m\u001b[1;33m\u001b[0m\u001b[0m\n\u001b[0m\u001b[0;32m      3\u001b[0m \u001b[0mimportance\u001b[0m \u001b[1;33m=\u001b[0m \u001b[0mpd\u001b[0m\u001b[1;33m.\u001b[0m\u001b[0mDataFrame\u001b[0m\u001b[1;33m(\u001b[0m\u001b[0mimp\u001b[0m\u001b[1;33m,\u001b[0m\u001b[0mindex\u001b[0m\u001b[1;33m=\u001b[0m\u001b[0mimp_col\u001b[0m\u001b[1;33m)\u001b[0m\u001b[1;33m\u001b[0m\u001b[1;33m\u001b[0m\u001b[0m\n\u001b[0;32m      4\u001b[0m \u001b[0mimportance\u001b[0m\u001b[1;33m.\u001b[0m\u001b[0msort_values\u001b[0m\u001b[1;33m(\u001b[0m\u001b[1;36m0\u001b[0m\u001b[1;33m,\u001b[0m\u001b[0mascending\u001b[0m\u001b[1;33m=\u001b[0m\u001b[1;32mFalse\u001b[0m\u001b[1;33m)\u001b[0m\u001b[1;33m\u001b[0m\u001b[1;33m\u001b[0m\u001b[0m\n",
      "\u001b[1;31mTypeError\u001b[0m: tolist() takes 1 positional argument but 2 were given"
     ]
    }
   ],
   "source": [
    "imp = clf_over_sampled_log\n",
    "imp_col = X.columns.tolist(X_test_o)\n",
    "importance = pd.DataFrame(imp,index=imp_col)\n",
    "importance.sort_values(0,ascending=False)"
   ]
  },
  {
   "cell_type": "code",
   "execution_count": 197,
   "metadata": {},
   "outputs": [
    {
     "name": "stdout",
     "output_type": "stream",
     "text": [
      "No. of 0's and 1's in the feature Class before oversampling the data\n",
      "0    98000\n",
      "1     2000\n",
      "Name: Y1, dtype: int64\n",
      "No. of 0's and 1's in the feature Class After oversampling the data\n",
      "Counter({0: 2000, 1: 2000})\n",
      "Train Time: 0.07981443405151367\n",
      "Prediction Time: 0.0009982585906982422\n",
      "fbeta score: 0.9644414625964441\n",
      "recall_score: 0.9599332220367279\n",
      "precision_score: 0.9829059829059829\n"
     ]
    }
   ],
   "source": [
    "smote_data = train_set.drop(['index', 'CUS_ID'], axis=1)\n",
    "\n",
    "print(\"No. of 0's and 1's in the feature Class before oversampling the data\")\n",
    "print(smote_data['Y1'].value_counts())\n",
    "\n",
    "\n",
    "X_nm = smote_data.drop('Y1',axis=1)\n",
    "y_nm = smote_data['Y1']\n",
    "start = time()\n",
    "# Oversampling the data using SMOTE\n",
    "\n",
    "nm1 = NearMiss(random_state=0, version=1)\n",
    "\n",
    "X_resampled_nm1, y_resampled_nm1 = nm1.fit_sample(X_nm,y_nm)\n",
    "end = time()\n",
    "print(\"No. of 0's and 1's in the feature Class After oversampling the data\")\n",
    "print(Counter(y_resampled_nm1))\n",
    "\n",
    "\n",
    "# Initializng the dictionary to store performance metrics\n",
    "results['NearMiss'] = {}\n",
    "results['NearMiss']['resample_time'] = end - start\n",
    "\n",
    "#Splitting the undersampled data\n",
    "X_train_nm, X_test_nm, y_train_nm, y_test_nm = train_test_split(X_resampled_nm1, \n",
    "                                                    y_resampled_nm1, \n",
    "                                                    test_size = 0.3, \n",
    "                                                    random_state = 0)\n",
    "#Training the classifier \n",
    "start = time()\n",
    "clf_nm = LogisticRegression().fit(X_train_nm, y_train_nm)\n",
    "end = time()\n",
    "results['NearMiss']['train_time'] = end - start\n",
    "\n",
    "\n",
    "# Predict on training set\n",
    "start = time()\n",
    "y_pred_score_nm = clf_nm.predict(X_test_nm)\n",
    "end = time()\n",
    "results['NearMiss']['pred_time'] = end - start\n",
    "\n",
    "\n",
    "results['NearMiss']['fbeta'] = fbeta_score(y_test_nm,y_pred_score_nm,beta=2)\n",
    "results['NearMiss']['recall'] = recall_score(y_test_nm,y_pred_score_nm)\n",
    "results['NearMiss']['precision'] = precision_score(y_test_nm,y_pred_score_nm)\n",
    "\n",
    "print (\"Train Time:\", results['NearMiss']['train_time'])\n",
    "print (\"Prediction Time:\", results['NearMiss']['pred_time'])\n",
    "print (\"fbeta score:\", results['NearMiss']['fbeta'])\n",
    "print('recall_score:', results['NearMiss']['recall'])\n",
    "print('precision_score:', results['NearMiss']['precision'])"
   ]
  },
  {
   "cell_type": "code",
   "execution_count": 205,
   "metadata": {},
   "outputs": [
    {
     "name": "stdout",
     "output_type": "stream",
     "text": [
      "No. of 0's and 1's in the feature Class before oversampling the data\n",
      "0    98000\n",
      "1     2000\n",
      "Name: Y1, dtype: int64\n",
      "No. of 0's and 1's in the feature Class After oversampling the data\n",
      "Counter({0: 2000, 1: 2000})\n",
      "Train Time: 0.39791321754455566\n",
      "Prediction Time: 0.00797891616821289\n",
      "fbeta score: 0.966118752096612\n",
      "recall_score: 0.9616026711185309\n",
      "precision_score: 0.9846153846153847\n"
     ]
    }
   ],
   "source": [
    "smote_data = train_set.drop(['index', 'CUS_ID'], axis=1)\n",
    "\n",
    "print(\"No. of 0's and 1's in the feature Class before oversampling the data\")\n",
    "print(smote_data['Y1'].value_counts())\n",
    "\n",
    "\n",
    "X_nm = smote_data.drop('Y1',axis=1)\n",
    "y_nm = smote_data['Y1']\n",
    "start = time()\n",
    "# Oversampling the data using SMOTE\n",
    "\n",
    "nm1 = NearMiss(random_state=0, version=1)\n",
    "\n",
    "X_resampled_nm1, y_resampled_nm1 = nm1.fit_sample(X_nm,y_nm)\n",
    "end = time()\n",
    "print(\"No. of 0's and 1's in the feature Class After oversampling the data\")\n",
    "print(Counter(y_resampled_nm1))\n",
    "\n",
    "\n",
    "# Initializng the dictionary to store performance metrics\n",
    "results['NearMiss'] = {}\n",
    "results['NearMiss']['resample_time'] = end - start\n",
    "\n",
    "#Splitting the undersampled data\n",
    "X_train_nm, X_test_nm, y_train_nm, y_test_nm = train_test_split(X_resampled_nm1, \n",
    "                                                    y_resampled_nm1, \n",
    "                                                    test_size = 0.3, \n",
    "                                                    random_state = 0)\n",
    "#Training the classifier \n",
    "start = time()\n",
    "clf_nm_lig = lig.fit(X_train_nm, y_train_nm)\n",
    "end = time()\n",
    "results['NearMiss']['train_time'] = end - start\n",
    "\n",
    "\n",
    "# Predict on training set\n",
    "start = time()\n",
    "y_pred_score_nm = clf_nm_lig.predict(X_test_nm)\n",
    "end = time()\n",
    "results['NearMiss']['pred_time'] = end - start\n",
    "\n",
    "\n",
    "results['NearMiss']['fbeta'] = fbeta_score(y_test_nm,y_pred_score_nm,beta=2)\n",
    "results['NearMiss']['recall'] = recall_score(y_test_nm,y_pred_score_nm)\n",
    "results['NearMiss']['precision'] = precision_score(y_test_nm,y_pred_score_nm)\n",
    "\n",
    "print (\"Train Time:\", results['NearMiss']['train_time'])\n",
    "print (\"Prediction Time:\", results['NearMiss']['pred_time'])\n",
    "print (\"fbeta score:\", results['NearMiss']['fbeta'])\n",
    "print('recall_score:', results['NearMiss']['recall'])\n",
    "print('precision_score:', results['NearMiss']['precision'])"
   ]
  },
  {
   "cell_type": "code",
   "execution_count": 225,
   "metadata": {},
   "outputs": [],
   "source": [
    "ans = clf_over_sampled_lig.predict(test_set.drop(['CUS_ID','index','Y1'],axis=1))"
   ]
  },
  {
   "cell_type": "code",
   "execution_count": 226,
   "metadata": {},
   "outputs": [
    {
     "data": {
      "text/plain": [
       "14373"
      ]
     },
     "execution_count": 226,
     "metadata": {},
     "output_type": "execute_result"
    }
   ],
   "source": [
    "ans.sum()"
   ]
  },
  {
   "cell_type": "code",
   "execution_count": 227,
   "metadata": {},
   "outputs": [],
   "source": [
    "sub = pd.read_csv('../../data/submit_test.csv',encoding= 'big5')\n",
    "sub['Ypred'] = ans"
   ]
  },
  {
   "cell_type": "code",
   "execution_count": 228,
   "metadata": {},
   "outputs": [
    {
     "data": {
      "text/plain": [
       "14373"
      ]
     },
     "execution_count": 228,
     "metadata": {},
     "output_type": "execute_result"
    }
   ],
   "source": [
    "sub['Ypred'].sum()"
   ]
  },
  {
   "cell_type": "code",
   "execution_count": 229,
   "metadata": {},
   "outputs": [],
   "source": [
    "sub.to_csv('sub4.csv',encoding='big5')"
   ]
  },
  {
   "cell_type": "code",
   "execution_count": 230,
   "metadata": {},
   "outputs": [
    {
     "data": {
      "text/plain": [
       "(150000, 371)"
      ]
     },
     "execution_count": 230,
     "metadata": {},
     "output_type": "execute_result"
    }
   ],
   "source": [
    "test_set.shape"
   ]
  },
  {
   "cell_type": "code",
   "execution_count": 269,
   "metadata": {},
   "outputs": [],
   "source": [
    "xgb_model = xgb.XGBRegressor(n_estimators=600,objective = 'reg:squarederror',subsample=0.8,\n",
    "                             max_depth=10,learning_rate=0.01,gamma=0.95,\n",
    "                            colsample_bytree=0.99,reg_lambda=0.7,min_child_weight=0.9,\n",
    "                             reg_alpha=0,n_jobs=5,verbosity=2,seed=1102)"
   ]
  },
  {
   "cell_type": "code",
   "execution_count": 270,
   "metadata": {},
   "outputs": [],
   "source": [
    "from imblearn.over_sampling import ADASYN"
   ]
  },
  {
   "cell_type": "code",
   "execution_count": 274,
   "metadata": {},
   "outputs": [
    {
     "name": "stdout",
     "output_type": "stream",
     "text": [
      "No. of 0's and 1's in the feature Class before oversampling the data\n",
      "0    98000\n",
      "1     2000\n",
      "Name: Y1, dtype: int64\n",
      "No. of 0's and 1's in the feature Class After oversampling the data\n",
      "Counter({0: 98000, 1: 97744})\n",
      "Train Time: 49.14114713668823\n",
      "Prediction Time: 0.0359039306640625\n",
      "fbeta score: 0.7953284058912713\n",
      "recall_score: 0.8010157128736494\n",
      "precision_score: 0.7733644859813084\n"
     ]
    }
   ],
   "source": [
    "ad_data = train_set.drop(['index', 'CUS_ID'], axis=1)\n",
    "\n",
    "print(\"No. of 0's and 1's in the feature Class before oversampling the data\")\n",
    "print(ad_data['Y1'].value_counts())\n",
    "\n",
    "\n",
    "X_ad = ad_data.drop('Y1',axis=1)\n",
    "y_ad = ad_data['Y1']\n",
    "start = time()\n",
    "# Oversampling the data using SMOTE\n",
    "\n",
    "X_resampled_ad, y_resampled_ad = ADASYN().fit_sample(X_ad,y_ad)\n",
    "end = time()\n",
    "print(\"No. of 0's and 1's in the feature Class After oversampling the data\")\n",
    "print(Counter(y_resampled_ad))\n",
    "\n",
    "\n",
    "# Initializng the dictionary to store performance metrics\n",
    "results['ad'] = {}\n",
    "results['ad']['resample_time'] = end - start\n",
    "\n",
    "#Splitting the undersampled data\n",
    "X_train_ad, X_test_ad, y_train_ad, y_test_ad = train_test_split(X_resampled_ad, \n",
    "                                                    y_resampled_ad, \n",
    "                                                    test_size = 0.3, \n",
    "                                                    random_state = 0)\n",
    "#Training the classifier \n",
    "start = time()\n",
    "clf_ad_log = LogisticRegression().fit(X_train_ad, y_train_ad)\n",
    "end = time()\n",
    "results['ad']['train_time'] = end - start\n",
    "\n",
    "\n",
    "# Predict on training set\n",
    "start = time()\n",
    "y_pred_score_ad = clf_ad_log.predict(X_test_ad)\n",
    "end = time()\n",
    "results['ad']['pred_time'] = end - start\n",
    "\n",
    "\n",
    "results['ad']['fbeta'] = fbeta_score(y_test_ad,y_pred_score_ad,beta=2)\n",
    "results['ad']['recall'] = recall_score(y_test_ad,y_pred_score_ad)\n",
    "results['ad']['precision'] = precision_score(y_test_ad,y_pred_score_ad)\n",
    "\n",
    "print (\"Train Time:\", results['ad']['train_time'])\n",
    "print (\"Prediction Time:\", results['ad']['pred_time'])\n",
    "print (\"fbeta score:\", results['ad']['fbeta'])\n",
    "print('recall_score:', results['ad']['recall'])\n",
    "print('precision_score:', results['ad']['precision'])"
   ]
  },
  {
   "cell_type": "code",
   "execution_count": 275,
   "metadata": {},
   "outputs": [
    {
     "data": {
      "text/plain": [
       "36927"
      ]
     },
     "execution_count": 275,
     "metadata": {},
     "output_type": "execute_result"
    }
   ],
   "source": [
    "ans = clf_ad_log.predict(test_set.drop(['CUS_ID','index','Y1'],axis=1))\n",
    "ans.sum()"
   ]
  },
  {
   "cell_type": "code",
   "execution_count": 276,
   "metadata": {},
   "outputs": [],
   "source": [
    "train_set.sample(frac=0.1,replace=False)"
   ]
  },
  {
   "cell_type": "code",
   "execution_count": null,
   "metadata": {},
   "outputs": [],
   "source": []
  },
  {
   "cell_type": "code",
   "execution_count": null,
   "metadata": {},
   "outputs": [],
   "source": []
  },
  {
   "cell_type": "code",
   "execution_count": null,
   "metadata": {},
   "outputs": [],
   "source": []
  },
  {
   "cell_type": "code",
   "execution_count": null,
   "metadata": {},
   "outputs": [],
   "source": []
  },
  {
   "cell_type": "code",
   "execution_count": null,
   "metadata": {},
   "outputs": [],
   "source": []
  },
  {
   "cell_type": "code",
   "execution_count": null,
   "metadata": {},
   "outputs": [],
   "source": []
  },
  {
   "cell_type": "code",
   "execution_count": null,
   "metadata": {},
   "outputs": [],
   "source": []
  },
  {
   "cell_type": "code",
   "execution_count": null,
   "metadata": {},
   "outputs": [],
   "source": []
  },
  {
   "cell_type": "code",
   "execution_count": null,
   "metadata": {},
   "outputs": [],
   "source": []
  },
  {
   "cell_type": "code",
   "execution_count": null,
   "metadata": {},
   "outputs": [],
   "source": []
  },
  {
   "cell_type": "code",
   "execution_count": null,
   "metadata": {},
   "outputs": [],
   "source": []
  },
  {
   "cell_type": "code",
   "execution_count": null,
   "metadata": {},
   "outputs": [],
   "source": []
  },
  {
   "cell_type": "code",
   "execution_count": null,
   "metadata": {},
   "outputs": [],
   "source": []
  },
  {
   "cell_type": "code",
   "execution_count": null,
   "metadata": {},
   "outputs": [],
   "source": []
  },
  {
   "cell_type": "code",
   "execution_count": null,
   "metadata": {},
   "outputs": [],
   "source": []
  },
  {
   "cell_type": "code",
   "execution_count": null,
   "metadata": {},
   "outputs": [],
   "source": []
  },
  {
   "cell_type": "code",
   "execution_count": null,
   "metadata": {},
   "outputs": [],
   "source": []
  },
  {
   "cell_type": "markdown",
   "metadata": {},
   "source": [
    "# ============================================================"
   ]
  },
  {
   "cell_type": "code",
   "execution_count": null,
   "metadata": {},
   "outputs": [],
   "source": []
  },
  {
   "cell_type": "code",
   "execution_count": null,
   "metadata": {},
   "outputs": [],
   "source": []
  },
  {
   "cell_type": "code",
   "execution_count": null,
   "metadata": {},
   "outputs": [],
   "source": []
  },
  {
   "cell_type": "code",
   "execution_count": null,
   "metadata": {},
   "outputs": [],
   "source": []
  },
  {
   "cell_type": "code",
   "execution_count": null,
   "metadata": {},
   "outputs": [],
   "source": []
  },
  {
   "cell_type": "code",
   "execution_count": 108,
   "metadata": {
    "scrolled": true
   },
   "outputs": [],
   "source": [
    "X_train, X_test, y_train, y_test = train_test_split(train_set, \n",
    "                                                    train_set['Y1'], \n",
    "                                                    test_size = 0.1, \n",
    "                                                    random_state = 1102)"
   ]
  },
  {
   "cell_type": "code",
   "execution_count": 51,
   "metadata": {},
   "outputs": [],
   "source": [
    "cat_model = cat.CatBoostClassifier(n_estimators=300,one_hot_max_size=2, l2_leaf_reg=3,\n",
    "                                 random_seed=1102)"
   ]
  },
  {
   "cell_type": "code",
   "execution_count": 40,
   "metadata": {},
   "outputs": [
    {
     "data": {
      "text/plain": [
       "(80000, 371)"
      ]
     },
     "execution_count": 40,
     "metadata": {},
     "output_type": "execute_result"
    }
   ],
   "source": [
    "X_train.shape"
   ]
  },
  {
   "cell_type": "code",
   "execution_count": 41,
   "metadata": {},
   "outputs": [
    {
     "data": {
      "text/plain": [
       "(20000, 371)"
      ]
     },
     "execution_count": 41,
     "metadata": {},
     "output_type": "execute_result"
    }
   ],
   "source": [
    "X_test.shape"
   ]
  },
  {
   "cell_type": "code",
   "execution_count": 111,
   "metadata": {},
   "outputs": [
    {
     "name": "stdout",
     "output_type": "stream",
     "text": [
      "No. of 0's and 1's in the feature Class before oversampling the data\n",
      "0    88209\n",
      "1     1791\n",
      "Name: Y1, dtype: int64\n",
      "No. of 0's and 1's in the feature Class After oversampling the data\n",
      "Counter({0: 1791, 1: 1791})\n",
      "Train Time: 0.726294755935669\n",
      "Prediction Time: 0.844871997833252\n",
      "fbeta score_train: 0.09619746202440617\n",
      "recall_score_train: 0.9709659408151871\n",
      "precision_score_train: 0.02089566586160076\n",
      "========================================================\n",
      "Train Time: 0.726294755935669\n",
      "Prediction Time: 0.844871997833252\n",
      "fbeta score: 0.09974196109567289\n",
      "recall_score: 0.9617224880382775\n",
      "precision_score: 0.021753246753246754\n"
     ]
    }
   ],
   "source": [
    "ad_data = X_train.drop(['index', 'CUS_ID'], axis=1)\n",
    "\n",
    "print(\"No. of 0's and 1's in the feature Class before oversampling the data\")\n",
    "print(ad_data['Y1'].value_counts())\n",
    "\n",
    "\n",
    "X_ad = ad_data.drop('Y1',axis=1)\n",
    "y_ad = ad_data['Y1']\n",
    "start = time()\n",
    "# Oversampling the data using SMOTE\n",
    "\n",
    "X_resampled_ad, y_resampled_ad = NearMiss().fit_sample(X_ad,y_ad)\n",
    "end = time()\n",
    "print(\"No. of 0's and 1's in the feature Class After oversampling the data\")\n",
    "print(Counter(y_resampled_ad))\n",
    "\n",
    "\n",
    "# Initializng the dictionary to store performance metrics\n",
    "results['ad'] = {}\n",
    "results['ad']['resample_time'] = end - start\n",
    "\n",
    "\n",
    "#Training the classifier \n",
    "start = time()\n",
    "clf_ad_lig = BalancedRandomForestClassifier().fit(X_resampled_ad, y_resampled_ad)\n",
    "end = time()\n",
    "results['ad']['train_time'] = end - start\n",
    "\n",
    "\n",
    "# Predict on training set\n",
    "start = time()\n",
    "y_pred_score_ad =clf_ad_lig.predict(X_test.drop(['CUS_ID','index','Y1'],axis=1))\n",
    "y_score_ad = clf_ad_lig.predict(X_train.drop(['CUS_ID','index','Y1'],axis=1))\n",
    "\n",
    "end = time()\n",
    "results['ad']['pred_time'] = end - start\n",
    "\n",
    "results['ad']['fbeta_train'] = fbeta_score(y_train,y_score_ad,beta=2)\n",
    "results['ad']['recall_train'] = recall_score(y_train,y_score_ad)\n",
    "results['ad']['precision_train'] = precision_score(y_train,y_score_ad)\n",
    "\n",
    "results['ad']['fbeta_test'] = fbeta_score(y_test,y_pred_score_ad,beta=2)\n",
    "results['ad']['recall_test'] = recall_score(y_test,y_pred_score_ad)\n",
    "results['ad']['precision_test'] = precision_score(y_test,y_pred_score_ad)\n",
    "\n",
    "print (\"Train Time:\", results['ad']['train_time'])\n",
    "print (\"Prediction Time:\", results['ad']['pred_time'])\n",
    "print (\"fbeta score_train:\", results['ad']['fbeta_train'])\n",
    "print('recall_score_train:', results['ad']['recall_train'])\n",
    "print('precision_score_train:', results['ad']['precision_train'])\n",
    "\n",
    "\n",
    "print('========================================================')\n",
    "print (\"Train Time:\", results['ad']['train_time'])\n",
    "print (\"Prediction Time:\", results['ad']['pred_time'])\n",
    "print (\"fbeta score:\", results['ad']['fbeta_test'])\n",
    "print('recall_score:', results['ad']['recall_test'])\n",
    "print('precision_score:', results['ad']['precision_test'])"
   ]
  },
  {
   "cell_type": "code",
   "execution_count": 110,
   "metadata": {
    "scrolled": true
   },
   "outputs": [
    {
     "name": "stdout",
     "output_type": "stream",
     "text": [
      "No. of 0's and 1's in the feature Class before oversampling the data\n",
      "0    88209\n",
      "1     1791\n",
      "Name: Y1, dtype: int64\n",
      "No. of 0's and 1's in the feature Class After oversampling the data\n",
      "Counter({0: 88209, 1: 88209})\n",
      "Train Time: 76.45857739448547\n",
      "Prediction Time: 2.279017210006714\n",
      "fbeta score_train: 0.3710635002581312\n",
      "recall_score_train: 0.3210496929089894\n",
      "precision_score_train: 0.9845890410958904\n",
      "========================================================\n",
      "Train Time: 76.45857739448547\n",
      "Prediction Time: 2.279017210006714\n",
      "fbeta score: 0.017814726840855107\n",
      "recall_score: 0.014354066985645933\n",
      "precision_score: 0.5\n"
     ]
    }
   ],
   "source": [
    "ad_data = X_train.drop(['index', 'CUS_ID'], axis=1)\n",
    "\n",
    "print(\"No. of 0's and 1's in the feature Class before oversampling the data\")\n",
    "print(ad_data['Y1'].value_counts())\n",
    "\n",
    "\n",
    "X_ad = ad_data.drop('Y1',axis=1)\n",
    "y_ad = ad_data['Y1']\n",
    "start = time()\n",
    "# Oversampling the data using SMOTE\n",
    "\n",
    "X_resampled_ad, y_resampled_ad = SMOTE(k_neighbors=4,kind='borderline1').fit_sample(X_ad,y_ad)\n",
    "end = time()\n",
    "print(\"No. of 0's and 1's in the feature Class After oversampling the data\")\n",
    "print(Counter(y_resampled_ad))\n",
    "\n",
    "\n",
    "# Initializng the dictionary to store performance metrics\n",
    "results['ad'] = {}\n",
    "results['ad']['resample_time'] = end - start\n",
    "\n",
    "\n",
    "#Training the classifier \n",
    "start = time()\n",
    "clf_ad_lig = BalancedRandomForestClassifier().fit(X_resampled_ad, y_resampled_ad)\n",
    "end = time()\n",
    "results['ad']['train_time'] = end - start\n",
    "\n",
    "\n",
    "# Predict on training set\n",
    "start = time()\n",
    "y_pred_score_ad =clf_ad_lig.predict(X_test.drop(['CUS_ID','index','Y1'],axis=1))\n",
    "y_score_ad = clf_ad_lig.predict(X_train.drop(['CUS_ID','index','Y1'],axis=1))\n",
    "\n",
    "end = time()\n",
    "results['ad']['pred_time'] = end - start\n",
    "\n",
    "results['ad']['fbeta_train'] = fbeta_score(y_train,y_score_ad,beta=2)\n",
    "results['ad']['recall_train'] = recall_score(y_train,y_score_ad)\n",
    "results['ad']['precision_train'] = precision_score(y_train,y_score_ad)\n",
    "\n",
    "results['ad']['fbeta_test'] = fbeta_score(y_test,y_pred_score_ad,beta=2)\n",
    "results['ad']['recall_test'] = recall_score(y_test,y_pred_score_ad)\n",
    "results['ad']['precision_test'] = precision_score(y_test,y_pred_score_ad)\n",
    "\n",
    "print (\"Train Time:\", results['ad']['train_time'])\n",
    "print (\"Prediction Time:\", results['ad']['pred_time'])\n",
    "print (\"fbeta score_train:\", results['ad']['fbeta_train'])\n",
    "print('recall_score_train:', results['ad']['recall_train'])\n",
    "print('precision_score_train:', results['ad']['precision_train'])\n",
    "\n",
    "\n",
    "print('========================================================')\n",
    "print (\"Train Time:\", results['ad']['train_time'])\n",
    "print (\"Prediction Time:\", results['ad']['pred_time'])\n",
    "print (\"fbeta score:\", results['ad']['fbeta_test'])\n",
    "print('recall_score:', results['ad']['recall_test'])\n",
    "print('precision_score:', results['ad']['precision_test'])"
   ]
  },
  {
   "cell_type": "code",
   "execution_count": 53,
   "metadata": {},
   "outputs": [
    {
     "data": {
      "text/plain": [
       "116.0"
      ]
     },
     "execution_count": 53,
     "metadata": {},
     "output_type": "execute_result"
    }
   ],
   "source": [
    "ans = clf_ad_cat.predict(test_set.drop(['CUS_ID','index','Y1'],axis=1))\n",
    "ans.sum()"
   ]
  },
  {
   "cell_type": "code",
   "execution_count": 335,
   "metadata": {},
   "outputs": [
    {
     "name": "stdout",
     "output_type": "stream",
     "text": [
      "Train Time: 51.857417821884155\n",
      "Prediction Time: 0.129652738571167\n",
      "fbeta score: 0.041617122473246136\n",
      "recall_score: 0.03398058252427184\n",
      "precision_score: 0.4117647058823529\n"
     ]
    }
   ],
   "source": [
    "start = time()\n",
    "y_pred_score_ad = clf_smote_lig.predict(X_test.drop(['CUS_ID','index','Y1'],axis=1))\n",
    "end = time()\n",
    "results['ad']['pred_time'] = end - start\n",
    "\n",
    "\n",
    "results['ad']['fbeta'] = fbeta_score(y_test,y_pred_score_ad,beta=2)\n",
    "results['ad']['recall'] = recall_score(y_test,y_pred_score_ad)\n",
    "results['ad']['precision'] = precision_score(y_test,y_pred_score_ad)\n",
    "\n",
    "print (\"Train Time:\", results['ad']['train_time'])\n",
    "print (\"Prediction Time:\", results['ad']['pred_time'])\n",
    "print (\"fbeta score:\", results['ad']['fbeta'])\n",
    "print('recall_score:', results['ad']['recall'])\n",
    "print('precision_score:', results['ad']['precision'])"
   ]
  },
  {
   "cell_type": "code",
   "execution_count": 325,
   "metadata": {},
   "outputs": [
    {
     "name": "stdout",
     "output_type": "stream",
     "text": [
      "No. of 0's and 1's in the feature Class before oversampling the data\n",
      "0    88206\n",
      "1     1794\n",
      "Name: Y1, dtype: int64\n",
      "No. of 0's and 1's in the feature Class after oversampling the data\n",
      "0    88206\n",
      "1    20000\n",
      "Name: Y1, dtype: int64\n",
      "Training set has 75744 samples.\n",
      "Testing set has 32462 samples.\n"
     ]
    }
   ],
   "source": [
    "resample_data = X_train.drop(['index', 'CUS_ID'], axis=1)\n",
    "\n",
    "results['oversampled']={}\n",
    "\n",
    "print(\"No. of 0's and 1's in the feature Class before oversampling the data\")\n",
    "print(resample_data['Y1'].value_counts())\n",
    "\n",
    "\n",
    "data_majority = resample_data[resample_data['Y1'] == 0]\n",
    "data_minority = resample_data[resample_data['Y1'] == 1]\n",
    "\n",
    "data_minority_oversampled  = resample(data_minority, \n",
    "                                 replace=True,     \n",
    "                                 n_samples=20000, \n",
    "                                 random_state=1102) \n",
    " \n",
    "# Combine majority class with upsampled minority class\n",
    "data_oversampled = pd.concat([data_majority, data_minority_oversampled])\n",
    "\n",
    "print(\"No. of 0's and 1's in the feature Class after oversampling the data\")\n",
    " \n",
    "print(data_oversampled['Y1'].value_counts())\n",
    "\n",
    "y = data_oversampled['Y1']\n",
    "X = data_oversampled.drop('Y1', axis=1)\n",
    "\n",
    "# Split the data into training and testing sets\n",
    "X_train_o, X_test_o, y_train_o, y_test_o = train_test_split(X, \n",
    "                                                    y, \n",
    "                                                    test_size = 0.3, \n",
    "                                                    random_state = 0)\n",
    "\n",
    "print(\"Training set has {} samples.\".format(X_train_o.shape[0]))\n",
    "print(\"Testing set has {} samples.\".format(X_test_o.shape[0]))"
   ]
  },
  {
   "cell_type": "code",
   "execution_count": 327,
   "metadata": {},
   "outputs": [
    {
     "name": "stdout",
     "output_type": "stream",
     "text": [
      "Train Time: 2.303813934326172\n",
      "Prediction Time: 0.3141591548919678\n",
      "fbeta score: 0.7690170197985412\n",
      "recall_score: 0.7404682274247492\n",
      "precision_score: 0.9092402464065709\n"
     ]
    }
   ],
   "source": [
    "start = time()\n",
    "#Training the Classifier\n",
    "clf_over_sampled_lig = lig.fit(X_train_o, y_train_o)\n",
    "end = time()\n",
    "results['oversampled']['train_time'] = end - start\n",
    "\n",
    "# Predict on training set\n",
    "start = time()\n",
    "y_pred_score_o = clf_over_sampled_lig.predict(X_test_o)\n",
    "end = time()\n",
    "results['oversampled']['pred_time'] = end - start\n",
    "\n",
    "results['oversampled']['fbeta'] = fbeta_score(y_test_o,y_pred_score_o,beta=2)\n",
    "results['oversampled']['recall']= recall_score(y_test_o,y_pred_score_o)\n",
    "results['oversampled']['precision'] = precision_score(y_test_o,y_pred_score_o)\n",
    "\n",
    "\n",
    "print (\"Train Time:\", results['oversampled']['train_time'])\n",
    "print (\"Prediction Time:\", results['oversampled']['pred_time'])\n",
    "print (\"fbeta score:\", results['oversampled']['fbeta'])\n",
    "print('recall_score:', results['oversampled']['recall'])\n",
    "print('precision_score:', results['oversampled']['precision'])"
   ]
  },
  {
   "cell_type": "code",
   "execution_count": 336,
   "metadata": {},
   "outputs": [
    {
     "data": {
      "text/plain": [
       "82"
      ]
     },
     "execution_count": 336,
     "metadata": {},
     "output_type": "execute_result"
    }
   ],
   "source": [
    "ans = clf_smote_lig.predict(test_set.drop(['CUS_ID','index','Y1'],axis=1))\n",
    "ans.sum()"
   ]
  },
  {
   "cell_type": "code",
   "execution_count": 64,
   "metadata": {},
   "outputs": [
    {
     "data": {
      "text/plain": [
       "(100000, 371)"
      ]
     },
     "execution_count": 64,
     "metadata": {},
     "output_type": "execute_result"
    }
   ],
   "source": [
    "train_set.shape"
   ]
  },
  {
   "cell_type": "code",
   "execution_count": 65,
   "metadata": {},
   "outputs": [],
   "source": [
    "from sklearn.feature_selection import SelectFromModel"
   ]
  },
  {
   "cell_type": "code",
   "execution_count": 94,
   "metadata": {},
   "outputs": [
    {
     "data": {
      "text/plain": [
       "(100000, 52)"
      ]
     },
     "execution_count": 94,
     "metadata": {},
     "output_type": "execute_result"
    }
   ],
   "source": [
    "from sklearn.svm import LinearSVC\n",
    "lsvc = LinearSVC(C=0.01, penalty=\"l1\", dual=False).fit(train_set.drop(['Y1','index','CUS_ID'],axis=1), train_set['Y1'])\n",
    "model = SelectFromModel(lsvc, prefit=True)\n",
    "X_new = model.transform(train_set.drop(['Y1','index','CUS_ID'],axis=1))\n",
    "X_new.shape"
   ]
  },
  {
   "cell_type": "code",
   "execution_count": 76,
   "metadata": {},
   "outputs": [],
   "source": [
    "from sklearn.ensemble import ExtraTreesClassifier"
   ]
  },
  {
   "cell_type": "code",
   "execution_count": 98,
   "metadata": {},
   "outputs": [
    {
     "data": {
      "text/plain": [
       "(100000, 161)"
      ]
     },
     "execution_count": 98,
     "metadata": {},
     "output_type": "execute_result"
    }
   ],
   "source": [
    "clf = ExtraTreesClassifier(n_estimators=100)\n",
    "clf = clf.fit(train_set.drop(['Y1','index','CUS_ID'],axis=1), train_set['Y1'])\n",
    "clf.feature_importances_  \n",
    "model = SelectFromModel(clf, prefit=True)\n",
    "X_new = model.transform(train_set.drop(['Y1','index','CUS_ID'],axis=1))\n",
    "X_new.shape"
   ]
  },
  {
   "cell_type": "code",
   "execution_count": null,
   "metadata": {},
   "outputs": [],
   "source": []
  },
  {
   "cell_type": "code",
   "execution_count": 106,
   "metadata": {},
   "outputs": [],
   "source": [
    "X_train, X_test, y_train, y_test = train_test_split(X_new, \n",
    "                                                    train_set['Y1'], \n",
    "                                                    test_size = 0.1, \n",
    "                                                    )"
   ]
  },
  {
   "cell_type": "code",
   "execution_count": 107,
   "metadata": {},
   "outputs": [
    {
     "name": "stdout",
     "output_type": "stream",
     "text": [
      "No. of 0's and 1's in the feature Class After oversampling the data\n",
      "Counter({0: 88206, 1: 88206})\n",
      "Train Time: 53.04060220718384\n",
      "Prediction Time: 1.4142968654632568\n",
      "fbeta score_train: 0.5579611530372386\n",
      "recall_score_train: 0.5027870680044593\n",
      "precision_score_train: 0.9944873208379272\n",
      "========================================================\n",
      "Train Time: 53.04060220718384\n",
      "Prediction Time: 1.4142968654632568\n",
      "fbeta score: 0.02395209580838323\n",
      "recall_score: 0.019417475728155338\n",
      "precision_score: 0.36363636363636365\n"
     ]
    }
   ],
   "source": [
    "X_ad = X_train\n",
    "y_ad = y_train\n",
    "start = time()\n",
    "# Oversampling the data using SMOTE\n",
    "\n",
    "X_resampled_ad, y_resampled_ad = SMOTE().fit_sample(X_ad,y_ad)\n",
    "end = time()\n",
    "print(\"No. of 0's and 1's in the feature Class After oversampling the data\")\n",
    "print(Counter(y_resampled_ad))\n",
    "\n",
    "\n",
    "# Initializng the dictionary to store performance metrics\n",
    "results['ad'] = {}\n",
    "results['ad']['resample_time'] = end - start\n",
    "\n",
    "\n",
    "#Training the classifier \n",
    "start = time()\n",
    "clf_ad_lig = BalancedRandomForestClassifier().fit(X_resampled_ad, y_resampled_ad)\n",
    "end = time()\n",
    "results['ad']['train_time'] = end - start\n",
    "\n",
    "\n",
    "# Predict on training set\n",
    "start = time()\n",
    "y_pred_score_ad = clf_ad_lig.predict(X_test)\n",
    "y_score_ad = clf_ad_lig.predict(X_train)\n",
    "\n",
    "end = time()\n",
    "results['ad']['pred_time'] = end - start\n",
    "\n",
    "results['ad']['fbeta_train'] = fbeta_score(y_train,y_score_ad,beta=2)\n",
    "results['ad']['recall_train'] = recall_score(y_train,y_score_ad)\n",
    "results['ad']['precision_train'] = precision_score(y_train,y_score_ad)\n",
    "\n",
    "results['ad']['fbeta_test'] = fbeta_score(y_test,y_pred_score_ad,beta=2)\n",
    "results['ad']['recall_test'] = recall_score(y_test,y_pred_score_ad)\n",
    "results['ad']['precision_test'] = precision_score(y_test,y_pred_score_ad)\n",
    "\n",
    "print (\"Train Time:\", results['ad']['train_time'])\n",
    "print (\"Prediction Time:\", results['ad']['pred_time'])\n",
    "print (\"fbeta score_train:\", results['ad']['fbeta_train'])\n",
    "print('recall_score_train:', results['ad']['recall_train'])\n",
    "print('precision_score_train:', results['ad']['precision_train'])\n",
    "\n",
    "\n",
    "print('========================================================')\n",
    "print (\"Train Time:\", results['ad']['train_time'])\n",
    "print (\"Prediction Time:\", results['ad']['pred_time'])\n",
    "print (\"fbeta score:\", results['ad']['fbeta_test'])\n",
    "print('recall_score:', results['ad']['recall_test'])\n",
    "print('precision_score:', results['ad']['precision_test'])"
   ]
  },
  {
   "cell_type": "code",
   "execution_count": 101,
   "metadata": {},
   "outputs": [],
   "source": [
    "from imblearn.ensemble import BalancedRandomForestClassifier"
   ]
  },
  {
   "cell_type": "code",
   "execution_count": null,
   "metadata": {},
   "outputs": [],
   "source": [
    "lig = light.LGBMClassifier(learning_rate=0.1,max_depth=7,subsample=0.7,colsample_bytree=0.3,\n",
    "                            reg_alpha=0.6,reg_lambda=0.9,n_estimators=300,n_jobs=5,verbosity=3)"
   ]
  },
  {
   "cell_type": "code",
   "execution_count": null,
   "metadata": {},
   "outputs": [],
   "source": []
  },
  {
   "cell_type": "code",
   "execution_count": null,
   "metadata": {},
   "outputs": [],
   "source": []
  },
  {
   "cell_type": "code",
   "execution_count": null,
   "metadata": {},
   "outputs": [],
   "source": []
  },
  {
   "cell_type": "code",
   "execution_count": null,
   "metadata": {},
   "outputs": [],
   "source": []
  },
  {
   "cell_type": "code",
   "execution_count": null,
   "metadata": {},
   "outputs": [],
   "source": []
  },
  {
   "cell_type": "code",
   "execution_count": null,
   "metadata": {},
   "outputs": [],
   "source": []
  },
  {
   "cell_type": "code",
   "execution_count": null,
   "metadata": {},
   "outputs": [],
   "source": []
  },
  {
   "cell_type": "code",
   "execution_count": null,
   "metadata": {},
   "outputs": [],
   "source": []
  },
  {
   "cell_type": "code",
   "execution_count": null,
   "metadata": {},
   "outputs": [],
   "source": []
  },
  {
   "cell_type": "code",
   "execution_count": null,
   "metadata": {},
   "outputs": [
    {
     "name": "stdout",
     "output_type": "stream",
     "text": [
      "No. of 0's and 1's in the feature Class before oversampling the data\n",
      "0    88206\n",
      "1     1794\n",
      "Name: Y1, dtype: int64\n"
     ]
    }
   ],
   "source": [
    "smote_data = X_train.drop(['index', 'CUS_ID'], axis=1)\n",
    "\n",
    "print(\"No. of 0's and 1's in the feature Class before oversampling the data\")\n",
    "print(smote_data['Y1'].value_counts())\n",
    "\n",
    "\n",
    "X_sm = smote_data.drop('Y1',axis=1)\n",
    "y_sm = smote_data['Y1']\n",
    "start = time()\n",
    "# Oversampling the data using SMOTE\n",
    "X_resampled_sm, y_resampled_sm = SMOTE(k_neighbors=10,kind='svm').fit_sample(X_sm,y_sm)\n",
    "end = time()\n",
    "print(\"No. of 0's and 1's in the feature Class After oversampling the data\")\n",
    "print(Counter(y_resampled_sm))\n",
    "\n",
    "\n",
    "# Initializng the dictionary to store performance metrics\n",
    "results['SMOTE'] = {}\n",
    "results['SMOTE']['resample_time'] = end - start\n",
    "\n",
    "# Splitting the resampled data \n",
    "X_train_sm, X_test_sm, y_train_sm, y_test_sm = train_test_split(X_resampled_sm, \n",
    "                                                    y_resampled_sm, \n",
    "                                                    test_size = 0.3, \n",
    "                                                    random_state = 0)\n",
    "start = time()\n",
    "# Training the Classifier\n",
    "clf_smote_lig = lig.fit(X_train_sm, y_train_sm)\n",
    "end = time()\n",
    "results['SMOTE']['train_time'] = end - start\n",
    "\n",
    "\n",
    "# Predict on training set\n",
    "start = time()\n",
    "y_pred_score_sm = clf_smote_lig.predict(X_test_sm)\n",
    "end = time()\n",
    "results['SMOTE']['pred_time'] = end - start\n",
    "\n",
    "\n",
    "results['SMOTE']['fbeta'] = fbeta_score(y_test_sm,y_pred_score_sm,beta=2)\n",
    "results['SMOTE']['recall'] = recall_score(y_test_sm,y_pred_score_sm)\n",
    "results['SMOTE']['precision'] = precision_score(y_test_sm,y_pred_score_sm)\n",
    "\n",
    "print (\"Train Time:\", results['SMOTE']['train_time'])\n",
    "print (\"Prediction Time:\", results['SMOTE']['pred_time'])\n",
    "print (\"fbeta score:\", results['SMOTE']['fbeta'])\n",
    "print('recall_score:', results['SMOTE']['recall'])\n",
    "print('precision_score:', results['SMOTE']['precision'])"
   ]
  },
  {
   "cell_type": "code",
   "execution_count": null,
   "metadata": {},
   "outputs": [],
   "source": [
    "train_set"
   ]
  },
  {
   "cell_type": "code",
   "execution_count": 119,
   "metadata": {},
   "outputs": [
    {
     "data": {
      "image/png": "[encoded data removed]",
      "text/plain": [
       "<Figure size 2160x288 with 1 Axes>"
      ]
     },
     "metadata": {
      "needs_background": "light"
     },
     "output_type": "display_data"
    },
    {
     "data": {
      "image/png": "[encoded data removed]",
      "text/plain": [
       "<Figure size 2160x288 with 1 Axes>"
      ]
     },
     "metadata": {
      "needs_background": "light"
     },
     "output_type": "display_data"
    }
   ],
   "source": [
    "plt.figure(figsize=(30,4))\n",
    "pd.DataFrame(X_new).boxplot()\n",
    "plt.title('(Raw) Distribution of Features', fontsize=17)\n",
    "plt.show()\n",
    "\n",
    "plt.figure(figsize=(30,4))\n",
    "np.log(pd.DataFrame(X_new)).boxplot()\n",
    "plt.title('(Raw) Distribution of Features', fontsize=17)\n",
    "plt.show()\n",
    "\n"
   ]
  },
  {
   "cell_type": "code",
   "execution_count": null,
   "metadata": {},
   "outputs": [],
   "source": []
  },
  {
   "cell_type": "code",
   "execution_count": null,
   "metadata": {},
   "outputs": [],
   "source": []
  },
  {
   "cell_type": "code",
   "execution_count": null,
   "metadata": {},
   "outputs": [],
   "source": []
  },
  {
   "cell_type": "code",
   "execution_count": null,
   "metadata": {},
   "outputs": [],
   "source": []
  },
  {
   "cell_type": "code",
   "execution_count": null,
   "metadata": {},
   "outputs": [],
   "source": []
  }
 ],
 "metadata": {
  "kernelspec": {
   "display_name": "Python 3",
   "language": "python",
   "name": "python3"
  },
  "language_info": {
   "codemirror_mode": {
    "name": "ipython",
    "version": 3
   },
   "file_extension": ".py",
   "mimetype": "text/x-python",
   "name": "python",
   "nbconvert_exporter": "python",
   "pygments_lexer": "ipython3",
   "version": "3.7.3"
  }
 },
 "nbformat": 4,
 "nbformat_minor": 2
}
